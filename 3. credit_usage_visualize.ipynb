{
 "cells": [
  {
   "cell_type": "code",
   "execution_count": 1,
   "id": "da3908f1",
   "metadata": {},
   "outputs": [],
   "source": [
    "import pandas as pd\n",
    "import seaborn as sns\n",
    "import matplotlib\n",
    "import matplotlib.pyplot as plt"
   ]
  },
  {
   "cell_type": "code",
   "execution_count": 2,
   "id": "161aa9f6",
   "metadata": {},
   "outputs": [],
   "source": [
    "seasons_added_df = pd.read_csv('seasons_added.csv')"
   ]
  },
  {
   "cell_type": "code",
   "execution_count": 3,
   "id": "75060ac6",
   "metadata": {},
   "outputs": [
    {
     "data": {
      "text/html": [
       "<div>\n",
       "<style scoped>\n",
       "    .dataframe tbody tr th:only-of-type {\n",
       "        vertical-align: middle;\n",
       "    }\n",
       "\n",
       "    .dataframe tbody tr th {\n",
       "        vertical-align: top;\n",
       "    }\n",
       "\n",
       "    .dataframe thead th {\n",
       "        text-align: right;\n",
       "    }\n",
       "</style>\n",
       "<table border=\"1\" class=\"dataframe\">\n",
       "  <thead>\n",
       "    <tr style=\"text-align: right;\">\n",
       "      <th></th>\n",
       "      <th>Category</th>\n",
       "      <th>Amount</th>\n",
       "      <th>Rate %</th>\n",
       "    </tr>\n",
       "  </thead>\n",
       "  <tbody>\n",
       "    <tr>\n",
       "      <th>0</th>\n",
       "      <td>Mortgage &amp; Rent</td>\n",
       "      <td>24754.50</td>\n",
       "      <td>46.76</td>\n",
       "    </tr>\n",
       "    <tr>\n",
       "      <th>1</th>\n",
       "      <td>Home Improvement</td>\n",
       "      <td>19092.87</td>\n",
       "      <td>36.07</td>\n",
       "    </tr>\n",
       "    <tr>\n",
       "      <th>2</th>\n",
       "      <td>Utilities</td>\n",
       "      <td>2776.00</td>\n",
       "      <td>5.24</td>\n",
       "    </tr>\n",
       "    <tr>\n",
       "      <th>3</th>\n",
       "      <td>Gas &amp; Fuel</td>\n",
       "      <td>1715.17</td>\n",
       "      <td>3.24</td>\n",
       "    </tr>\n",
       "    <tr>\n",
       "      <th>4</th>\n",
       "      <td>Mobile Phone</td>\n",
       "      <td>1680.40</td>\n",
       "      <td>3.17</td>\n",
       "    </tr>\n",
       "    <tr>\n",
       "      <th>5</th>\n",
       "      <td>Internet</td>\n",
       "      <td>1570.88</td>\n",
       "      <td>2.97</td>\n",
       "    </tr>\n",
       "    <tr>\n",
       "      <th>6</th>\n",
       "      <td>Auto Insurance</td>\n",
       "      <td>1350.00</td>\n",
       "      <td>2.55</td>\n",
       "    </tr>\n",
       "    <tr>\n",
       "      <th>7</th>\n",
       "      <td>Total</td>\n",
       "      <td>52939.82</td>\n",
       "      <td>100.00</td>\n",
       "    </tr>\n",
       "  </tbody>\n",
       "</table>\n",
       "</div>"
      ],
      "text/plain": [
       "           Category    Amount  Rate %\n",
       "0   Mortgage & Rent  24754.50   46.76\n",
       "1  Home Improvement  19092.87   36.07\n",
       "2         Utilities   2776.00    5.24\n",
       "3        Gas & Fuel   1715.17    3.24\n",
       "4      Mobile Phone   1680.40    3.17\n",
       "5          Internet   1570.88    2.97\n",
       "6    Auto Insurance   1350.00    2.55\n",
       "7             Total  52939.82  100.00"
      ]
     },
     "execution_count": 3,
     "metadata": {},
     "output_type": "execute_result"
    }
   ],
   "source": [
    "essential = pd.read_csv('essential.csv')\n",
    "non_essential = pd.read_csv('non_essential.csv')\n",
    "essential"
   ]
  },
  {
   "cell_type": "markdown",
   "id": "d52802b8",
   "metadata": {},
   "source": [
    "### Altering table"
   ]
  },
  {
   "cell_type": "code",
   "execution_count": 4,
   "id": "e438a843",
   "metadata": {},
   "outputs": [
    {
     "data": {
      "text/html": [
       "<div>\n",
       "<style scoped>\n",
       "    .dataframe tbody tr th:only-of-type {\n",
       "        vertical-align: middle;\n",
       "    }\n",
       "\n",
       "    .dataframe tbody tr th {\n",
       "        vertical-align: top;\n",
       "    }\n",
       "\n",
       "    .dataframe thead th {\n",
       "        text-align: right;\n",
       "    }\n",
       "</style>\n",
       "<table border=\"1\" class=\"dataframe\">\n",
       "  <thead>\n",
       "    <tr style=\"text-align: right;\">\n",
       "      <th></th>\n",
       "      <th>Amount</th>\n",
       "    </tr>\n",
       "    <tr>\n",
       "      <th>Category</th>\n",
       "      <th></th>\n",
       "    </tr>\n",
       "  </thead>\n",
       "  <tbody>\n",
       "    <tr>\n",
       "      <th>Mortgage &amp; Rent</th>\n",
       "      <td>24754.50</td>\n",
       "    </tr>\n",
       "    <tr>\n",
       "      <th>Home Improvement</th>\n",
       "      <td>19092.87</td>\n",
       "    </tr>\n",
       "    <tr>\n",
       "      <th>Utilities</th>\n",
       "      <td>2776.00</td>\n",
       "    </tr>\n",
       "    <tr>\n",
       "      <th>Gas &amp; Fuel</th>\n",
       "      <td>1715.17</td>\n",
       "    </tr>\n",
       "    <tr>\n",
       "      <th>Mobile Phone</th>\n",
       "      <td>1680.40</td>\n",
       "    </tr>\n",
       "    <tr>\n",
       "      <th>Internet</th>\n",
       "      <td>1570.88</td>\n",
       "    </tr>\n",
       "    <tr>\n",
       "      <th>Auto Insurance</th>\n",
       "      <td>1350.00</td>\n",
       "    </tr>\n",
       "  </tbody>\n",
       "</table>\n",
       "</div>"
      ],
      "text/plain": [
       "                    Amount\n",
       "Category                  \n",
       "Mortgage & Rent   24754.50\n",
       "Home Improvement  19092.87\n",
       "Utilities          2776.00\n",
       "Gas & Fuel         1715.17\n",
       "Mobile Phone       1680.40\n",
       "Internet           1570.88\n",
       "Auto Insurance     1350.00"
      ]
     },
     "execution_count": 4,
     "metadata": {},
     "output_type": "execute_result"
    }
   ],
   "source": [
    "essential = essential[['Category','Amount']]\n",
    "essential = essential.set_index('Category')\n",
    "essential.drop(['Total'],inplace=True)\n",
    "essential"
   ]
  },
  {
   "cell_type": "code",
   "execution_count": 5,
   "id": "bac4330f",
   "metadata": {},
   "outputs": [
    {
     "data": {
      "text/html": [
       "<div>\n",
       "<style scoped>\n",
       "    .dataframe tbody tr th:only-of-type {\n",
       "        vertical-align: middle;\n",
       "    }\n",
       "\n",
       "    .dataframe tbody tr th {\n",
       "        vertical-align: top;\n",
       "    }\n",
       "\n",
       "    .dataframe thead th {\n",
       "        text-align: right;\n",
       "    }\n",
       "</style>\n",
       "<table border=\"1\" class=\"dataframe\">\n",
       "  <thead>\n",
       "    <tr style=\"text-align: right;\">\n",
       "      <th></th>\n",
       "      <th>Amount</th>\n",
       "    </tr>\n",
       "    <tr>\n",
       "      <th>Category</th>\n",
       "      <th></th>\n",
       "    </tr>\n",
       "  </thead>\n",
       "  <tbody>\n",
       "    <tr>\n",
       "      <th>Groceries</th>\n",
       "      <td>2795.21</td>\n",
       "    </tr>\n",
       "    <tr>\n",
       "      <th>Restaurants</th>\n",
       "      <td>2613.02</td>\n",
       "    </tr>\n",
       "    <tr>\n",
       "      <th>Shopping</th>\n",
       "      <td>1973.24</td>\n",
       "    </tr>\n",
       "    <tr>\n",
       "      <th>Electronics &amp; Software</th>\n",
       "      <td>719.00</td>\n",
       "    </tr>\n",
       "    <tr>\n",
       "      <th>Alcohol &amp; Bars</th>\n",
       "      <td>539.13</td>\n",
       "    </tr>\n",
       "    <tr>\n",
       "      <th>Haircut</th>\n",
       "      <td>378.00</td>\n",
       "    </tr>\n",
       "    <tr>\n",
       "      <th>Fast Food</th>\n",
       "      <td>330.63</td>\n",
       "    </tr>\n",
       "    <tr>\n",
       "      <th>Music</th>\n",
       "      <td>224.49</td>\n",
       "    </tr>\n",
       "    <tr>\n",
       "      <th>Movies &amp; DVDs</th>\n",
       "      <td>222.19</td>\n",
       "    </tr>\n",
       "    <tr>\n",
       "      <th>Coffee Shops</th>\n",
       "      <td>115.54</td>\n",
       "    </tr>\n",
       "    <tr>\n",
       "      <th>Television</th>\n",
       "      <td>104.78</td>\n",
       "    </tr>\n",
       "    <tr>\n",
       "      <th>Food &amp; Dining</th>\n",
       "      <td>77.75</td>\n",
       "    </tr>\n",
       "    <tr>\n",
       "      <th>Entertainment</th>\n",
       "      <td>9.62</td>\n",
       "    </tr>\n",
       "  </tbody>\n",
       "</table>\n",
       "</div>"
      ],
      "text/plain": [
       "                         Amount\n",
       "Category                       \n",
       "Groceries               2795.21\n",
       "Restaurants             2613.02\n",
       "Shopping                1973.24\n",
       "Electronics & Software   719.00\n",
       "Alcohol & Bars           539.13\n",
       "Haircut                  378.00\n",
       "Fast Food                330.63\n",
       "Music                    224.49\n",
       "Movies & DVDs            222.19\n",
       "Coffee Shops             115.54\n",
       "Television               104.78\n",
       "Food & Dining             77.75\n",
       "Entertainment              9.62"
      ]
     },
     "execution_count": 5,
     "metadata": {},
     "output_type": "execute_result"
    }
   ],
   "source": [
    "non_essential = non_essential[['Category','Amount']]\n",
    "non_essential = non_essential.set_index('Category')\n",
    "non_essential.drop(['Total'],inplace=True)\n",
    "non_essential"
   ]
  },
  {
   "cell_type": "code",
   "execution_count": 6,
   "id": "e032532c",
   "metadata": {},
   "outputs": [
    {
     "data": {
      "text/plain": [
       "<AxesSubplot:title={'center':'Essential spendings'}, xlabel='Category', ylabel='Amount'>"
      ]
     },
     "execution_count": 6,
     "metadata": {},
     "output_type": "execute_result"
    },
    {
     "data": {
      "image/png": "[encoded data removed]",
      "text/plain": [
       "<Figure size 1080x432 with 1 Axes>"
      ]
     },
     "metadata": {
      "needs_background": "light"
     },
     "output_type": "display_data"
    }
   ],
   "source": [
    "plt.figure(figsize=(15,6))\n",
    "plt.title('Essential spendings')\n",
    "sns.barplot(x=essential.index,y=essential.Amount)"
   ]
  },
  {
   "cell_type": "code",
   "execution_count": 7,
   "id": "4b9fefdd",
   "metadata": {},
   "outputs": [
    {
     "data": {
      "text/plain": [
       "<AxesSubplot:title={'center':'Non_essential spendings'}, xlabel='Category', ylabel='Amount'>"
      ]
     },
     "execution_count": 7,
     "metadata": {},
     "output_type": "execute_result"
    },
    {
     "data": {
      "image/png": "[encoded data removed]",
      "text/plain": [
       "<Figure size 1152x432 with 1 Axes>"
      ]
     },
     "metadata": {
      "needs_background": "light"
     },
     "output_type": "display_data"
    }
   ],
   "source": [
    "plt.figure(figsize=(16,6))\n",
    "plt.xticks(rotation=75)\n",
    "plt.title('Non_essential spendings')\n",
    "sns.barplot(x = non_essential.index, y=non_essential.Amount)"
   ]
  },
  {
   "cell_type": "code",
   "execution_count": 8,
   "id": "301d6d56",
   "metadata": {},
   "outputs": [
    {
     "data": {
      "text/plain": [
       "<AxesSubplot:title={'center':'seasonal spendings'}, xlabel='Seasons', ylabel='Amount'>"
      ]
     },
     "execution_count": 8,
     "metadata": {},
     "output_type": "execute_result"
    },
    {
     "data": {
      "image/png": "[encoded data removed]",
      "text/plain": [
       "<Figure size 432x288 with 1 Axes>"
      ]
     },
     "metadata": {
      "needs_background": "light"
     },
     "output_type": "display_data"
    }
   ],
   "source": [
    "plt.title('seasonal spendings')\n",
    "sns.barplot(x=seasons_added_df.Seasons,y=seasons_added_df.Amount)"
   ]
  },
  {
   "cell_type": "code",
   "execution_count": 9,
   "id": "cf05be17",
   "metadata": {},
   "outputs": [
    {
     "data": {
      "text/html": [
       "<div>\n",
       "<style scoped>\n",
       "    .dataframe tbody tr th:only-of-type {\n",
       "        vertical-align: middle;\n",
       "    }\n",
       "\n",
       "    .dataframe tbody tr th {\n",
       "        vertical-align: top;\n",
       "    }\n",
       "\n",
       "    .dataframe thead th {\n",
       "        text-align: right;\n",
       "    }\n",
       "</style>\n",
       "<table border=\"1\" class=\"dataframe\">\n",
       "  <thead>\n",
       "    <tr style=\"text-align: right;\">\n",
       "      <th></th>\n",
       "      <th>Date</th>\n",
       "      <th>Description</th>\n",
       "      <th>Amount</th>\n",
       "      <th>Transaction_Type</th>\n",
       "      <th>Category</th>\n",
       "      <th>Account_Name</th>\n",
       "      <th>Seasons</th>\n",
       "    </tr>\n",
       "  </thead>\n",
       "  <tbody>\n",
       "    <tr>\n",
       "      <th>0</th>\n",
       "      <td>1/1/2018</td>\n",
       "      <td>Amazon</td>\n",
       "      <td>11.11</td>\n",
       "      <td>debit</td>\n",
       "      <td>Shopping</td>\n",
       "      <td>Platinum Card</td>\n",
       "      <td>Winter</td>\n",
       "    </tr>\n",
       "    <tr>\n",
       "      <th>1</th>\n",
       "      <td>1/2/2018</td>\n",
       "      <td>Mortgage Payment</td>\n",
       "      <td>1247.44</td>\n",
       "      <td>debit</td>\n",
       "      <td>Mortgage &amp; Rent</td>\n",
       "      <td>Checking</td>\n",
       "      <td>Winter</td>\n",
       "    </tr>\n",
       "    <tr>\n",
       "      <th>2</th>\n",
       "      <td>1/2/2018</td>\n",
       "      <td>Thai Restaurant</td>\n",
       "      <td>24.22</td>\n",
       "      <td>debit</td>\n",
       "      <td>Restaurants</td>\n",
       "      <td>Silver Card</td>\n",
       "      <td>Winter</td>\n",
       "    </tr>\n",
       "    <tr>\n",
       "      <th>3</th>\n",
       "      <td>1/3/2018</td>\n",
       "      <td>Credit Card Payment</td>\n",
       "      <td>2298.09</td>\n",
       "      <td>credit</td>\n",
       "      <td>Credit Card Payment</td>\n",
       "      <td>Platinum Card</td>\n",
       "      <td>Winter</td>\n",
       "    </tr>\n",
       "    <tr>\n",
       "      <th>4</th>\n",
       "      <td>1/4/2018</td>\n",
       "      <td>Netflix</td>\n",
       "      <td>11.76</td>\n",
       "      <td>debit</td>\n",
       "      <td>Movies &amp; DVDs</td>\n",
       "      <td>Platinum Card</td>\n",
       "      <td>Winter</td>\n",
       "    </tr>\n",
       "    <tr>\n",
       "      <th>...</th>\n",
       "      <td>...</td>\n",
       "      <td>...</td>\n",
       "      <td>...</td>\n",
       "      <td>...</td>\n",
       "      <td>...</td>\n",
       "      <td>...</td>\n",
       "      <td>...</td>\n",
       "    </tr>\n",
       "    <tr>\n",
       "      <th>801</th>\n",
       "      <td>9/27/2019</td>\n",
       "      <td>Biweekly Paycheck</td>\n",
       "      <td>2250.00</td>\n",
       "      <td>credit</td>\n",
       "      <td>Paycheck</td>\n",
       "      <td>Checking</td>\n",
       "      <td>Summer</td>\n",
       "    </tr>\n",
       "    <tr>\n",
       "      <th>802</th>\n",
       "      <td>9/28/2019</td>\n",
       "      <td>BP</td>\n",
       "      <td>33.46</td>\n",
       "      <td>debit</td>\n",
       "      <td>Gas &amp; Fuel</td>\n",
       "      <td>Platinum Card</td>\n",
       "      <td>Summer</td>\n",
       "    </tr>\n",
       "    <tr>\n",
       "      <th>803</th>\n",
       "      <td>9/28/2019</td>\n",
       "      <td>Sheetz</td>\n",
       "      <td>4.27</td>\n",
       "      <td>debit</td>\n",
       "      <td>Gas &amp; Fuel</td>\n",
       "      <td>Platinum Card</td>\n",
       "      <td>Summer</td>\n",
       "    </tr>\n",
       "    <tr>\n",
       "      <th>804</th>\n",
       "      <td>9/30/2019</td>\n",
       "      <td>Starbucks</td>\n",
       "      <td>1.75</td>\n",
       "      <td>debit</td>\n",
       "      <td>Coffee Shops</td>\n",
       "      <td>Platinum Card</td>\n",
       "      <td>Summer</td>\n",
       "    </tr>\n",
       "    <tr>\n",
       "      <th>805</th>\n",
       "      <td>9/30/2019</td>\n",
       "      <td>Internet Service Provider</td>\n",
       "      <td>75.00</td>\n",
       "      <td>debit</td>\n",
       "      <td>Internet</td>\n",
       "      <td>Checking</td>\n",
       "      <td>Summer</td>\n",
       "    </tr>\n",
       "  </tbody>\n",
       "</table>\n",
       "<p>806 rows × 7 columns</p>\n",
       "</div>"
      ],
      "text/plain": [
       "          Date                Description   Amount Transaction_Type  \\\n",
       "0     1/1/2018                     Amazon    11.11            debit   \n",
       "1     1/2/2018           Mortgage Payment  1247.44            debit   \n",
       "2     1/2/2018            Thai Restaurant    24.22            debit   \n",
       "3     1/3/2018        Credit Card Payment  2298.09           credit   \n",
       "4     1/4/2018                    Netflix    11.76            debit   \n",
       "..         ...                        ...      ...              ...   \n",
       "801  9/27/2019          Biweekly Paycheck  2250.00           credit   \n",
       "802  9/28/2019                         BP    33.46            debit   \n",
       "803  9/28/2019                     Sheetz     4.27            debit   \n",
       "804  9/30/2019                  Starbucks     1.75            debit   \n",
       "805  9/30/2019  Internet Service Provider    75.00            debit   \n",
       "\n",
       "                Category   Account_Name Seasons  \n",
       "0               Shopping  Platinum Card  Winter  \n",
       "1        Mortgage & Rent       Checking  Winter  \n",
       "2            Restaurants    Silver Card  Winter  \n",
       "3    Credit Card Payment  Platinum Card  Winter  \n",
       "4          Movies & DVDs  Platinum Card  Winter  \n",
       "..                   ...            ...     ...  \n",
       "801             Paycheck       Checking  Summer  \n",
       "802           Gas & Fuel  Platinum Card  Summer  \n",
       "803           Gas & Fuel  Platinum Card  Summer  \n",
       "804         Coffee Shops  Platinum Card  Summer  \n",
       "805             Internet       Checking  Summer  \n",
       "\n",
       "[806 rows x 7 columns]"
      ]
     },
     "execution_count": 9,
     "metadata": {},
     "output_type": "execute_result"
    }
   ],
   "source": [
    "seasons_added_df"
   ]
  },
  {
   "cell_type": "code",
   "execution_count": 10,
   "id": "5999d5a8",
   "metadata": {},
   "outputs": [
    {
     "data": {
      "text/plain": [
       "<AxesSubplot:xlabel='Seasons', ylabel='Amount'>"
      ]
     },
     "execution_count": 10,
     "metadata": {},
     "output_type": "execute_result"
    },
    {
     "data": {
      "image/png": "[encoded data removed]",
      "text/plain": [
       "<Figure size 432x288 with 1 Axes>"
      ]
     },
     "metadata": {
      "needs_background": "light"
     },
     "output_type": "display_data"
    }
   ],
   "source": [
    "sns.barplot(x='Seasons',\n",
    "            y='Amount',\n",
    "            hue = 'Account_Name',\n",
    "            data = seasons_added_df)"
   ]
  },
  {
   "cell_type": "code",
   "execution_count": 11,
   "id": "e23d4522",
   "metadata": {},
   "outputs": [],
   "source": [
    "#Which account type had the most spending amount?"
   ]
  },
  {
   "cell_type": "code",
   "execution_count": 12,
   "id": "1ebf3307",
   "metadata": {},
   "outputs": [
    {
     "data": {
      "text/html": [
       "<div>\n",
       "<style scoped>\n",
       "    .dataframe tbody tr th:only-of-type {\n",
       "        vertical-align: middle;\n",
       "    }\n",
       "\n",
       "    .dataframe tbody tr th {\n",
       "        vertical-align: top;\n",
       "    }\n",
       "\n",
       "    .dataframe thead th {\n",
       "        text-align: right;\n",
       "    }\n",
       "</style>\n",
       "<table border=\"1\" class=\"dataframe\">\n",
       "  <thead>\n",
       "    <tr style=\"text-align: right;\">\n",
       "      <th></th>\n",
       "      <th>Amount</th>\n",
       "    </tr>\n",
       "    <tr>\n",
       "      <th>Account_Name</th>\n",
       "      <th></th>\n",
       "    </tr>\n",
       "  </thead>\n",
       "  <tbody>\n",
       "    <tr>\n",
       "      <th>Checking</th>\n",
       "      <td>176248.14</td>\n",
       "    </tr>\n",
       "    <tr>\n",
       "      <th>Platinum Card</th>\n",
       "      <td>30136.24</td>\n",
       "    </tr>\n",
       "    <tr>\n",
       "      <th>Silver Card</th>\n",
       "      <td>13969.16</td>\n",
       "    </tr>\n",
       "  </tbody>\n",
       "</table>\n",
       "</div>"
      ],
      "text/plain": [
       "                  Amount\n",
       "Account_Name            \n",
       "Checking       176248.14\n",
       "Platinum Card   30136.24\n",
       "Silver Card     13969.16"
      ]
     },
     "execution_count": 12,
     "metadata": {},
     "output_type": "execute_result"
    }
   ],
   "source": [
    "account_spending = seasons_added_df.groupby('Account_Name').sum()\n",
    "account_spending"
   ]
  },
  {
   "cell_type": "code",
   "execution_count": null,
   "id": "fa160384",
   "metadata": {},
   "outputs": [],
   "source": []
  }
 ],
 "metadata": {
  "kernelspec": {
   "display_name": "Python 3",
   "language": "python",
   "name": "python3"
  },
  "language_info": {
   "codemirror_mode": {
    "name": "ipython",
    "version": 3
   },
   "file_extension": ".py",
   "mimetype": "text/x-python",
   "name": "python",
   "nbconvert_exporter": "python",
   "pygments_lexer": "ipython3",
   "version": "3.8.8"
  }
 },
 "nbformat": 4,
 "nbformat_minor": 5
}
